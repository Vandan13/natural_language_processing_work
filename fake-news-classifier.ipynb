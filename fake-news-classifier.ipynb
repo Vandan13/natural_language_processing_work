{
 "cells": [
  {
   "cell_type": "code",
   "execution_count": 1,
   "id": "370a3a4c",
   "metadata": {
    "execution": {
     "iopub.execute_input": "2022-08-20T00:21:25.020939Z",
     "iopub.status.busy": "2022-08-20T00:21:25.020021Z",
     "iopub.status.idle": "2022-08-20T00:21:31.399694Z",
     "shell.execute_reply": "2022-08-20T00:21:31.398679Z"
    },
    "papermill": {
     "duration": 6.388339,
     "end_time": "2022-08-20T00:21:31.402515",
     "exception": false,
     "start_time": "2022-08-20T00:21:25.014176",
     "status": "completed"
    },
    "tags": []
   },
   "outputs": [],
   "source": [
    "import warnings\n",
    "warnings.filterwarnings(\"ignore\")\n",
    "\n",
    "import re\n",
    "import html\n",
    "from tqdm import tqdm\n",
    "\n",
    "import numpy as np\n",
    "import pandas as pd\n",
    "import matplotlib.pyplot as plt\n",
    "import seaborn as sns\n",
    "from sklearn.model_selection import train_test_split\n",
    "\n",
    "from nltk.corpus import stopwords\n",
    "\n",
    "from keras.utils.vis_utils import plot_model\n",
    "from keras_preprocessing.sequence import pad_sequences\n",
    "from keras_preprocessing.text import Tokenizer\n",
    "from keras.layers import Input, Embedding, Conv1D, Dropout, MaxPooling1D, Bidirectional, LSTM, Flatten, Dense\n",
    "from keras.models import Model\n",
    "from keras.callbacks import EarlyStopping, ModelCheckpoint"
   ]
  },
  {
   "cell_type": "code",
   "execution_count": 2,
   "id": "999d24d1",
   "metadata": {
    "execution": {
     "iopub.execute_input": "2022-08-20T00:21:31.411223Z",
     "iopub.status.busy": "2022-08-20T00:21:31.410701Z",
     "iopub.status.idle": "2022-08-20T00:21:34.149672Z",
     "shell.execute_reply": "2022-08-20T00:21:34.148667Z"
    },
    "papermill": {
     "duration": 2.746538,
     "end_time": "2022-08-20T00:21:34.152791",
     "exception": false,
     "start_time": "2022-08-20T00:21:31.406253",
     "status": "completed"
    },
    "tags": []
   },
   "outputs": [
    {
     "name": "stdout",
     "output_type": "stream",
     "text": [
      "                                               title  \\\n",
      "0   Donald Trump Sends Out Embarrassing New Year’...   \n",
      "1   Drunk Bragging Trump Staffer Started Russian ...   \n",
      "2   Sheriff David Clarke Becomes An Internet Joke...   \n",
      "3   Trump Is So Obsessed He Even Has Obama’s Name...   \n",
      "4   Pope Francis Just Called Out Donald Trump Dur...   \n",
      "\n",
      "                                                text subject  \\\n",
      "0  Donald Trump just couldn t wish all Americans ...    News   \n",
      "1  House Intelligence Committee Chairman Devin Nu...    News   \n",
      "2  On Friday, it was revealed that former Milwauk...    News   \n",
      "3  On Christmas day, Donald Trump announced that ...    News   \n",
      "4  Pope Francis used his annual Christmas Day mes...    News   \n",
      "\n",
      "                date  is_fake  \n",
      "0  December 31, 2017        1  \n",
      "1  December 31, 2017        1  \n",
      "2  December 30, 2017        1  \n",
      "3  December 29, 2017        1  \n",
      "4  December 25, 2017        1  \n"
     ]
    }
   ],
   "source": [
    "## Read dataframes, set binary column to identify fake news article and concat the two dataframes into a single dataframe\n",
    "\n",
    "fake_news = pd.read_csv('../input/fake-and-real-news-dataset/Fake.csv')\n",
    "true_news = pd.read_csv('../input/fake-and-real-news-dataset/True.csv')\n",
    "\n",
    "fake_news['is_fake'] = 1\n",
    "true_news['is_fake']= 0\n",
    "\n",
    "df = pd.concat([fake_news, true_news])\n",
    "print(df.head())"
   ]
  },
  {
   "cell_type": "code",
   "execution_count": 3,
   "id": "0fb30762",
   "metadata": {
    "execution": {
     "iopub.execute_input": "2022-08-20T00:21:34.162271Z",
     "iopub.status.busy": "2022-08-20T00:21:34.161976Z",
     "iopub.status.idle": "2022-08-20T00:21:34.178345Z",
     "shell.execute_reply": "2022-08-20T00:21:34.177291Z"
    },
    "papermill": {
     "duration": 0.023491,
     "end_time": "2022-08-20T00:21:34.181200",
     "exception": false,
     "start_time": "2022-08-20T00:21:34.157709",
     "status": "completed"
    },
    "tags": []
   },
   "outputs": [
    {
     "name": "stdout",
     "output_type": "stream",
     "text": [
      "Before dropping duplicates: Rows: 44898\n",
      "\n",
      "\n",
      "The number of null titles is 0\n",
      "\n",
      "\n",
      "The number of blank titles is 0\n"
     ]
    }
   ],
   "source": [
    "## Basic Numbers\n",
    "print('Before dropping duplicates: Rows: {}'.format(df.shape[0]))\n",
    "print(\"\\n\")\n",
    "print(\"The number of null titles is {}\".format(df[df.title.isna()].shape[0]))\n",
    "print('\\n')\n",
    "print(\"The number of blank titles is {}\".format(df[df.title==''].shape[0]))"
   ]
  },
  {
   "cell_type": "code",
   "execution_count": 4,
   "id": "dcb956c4",
   "metadata": {
    "execution": {
     "iopub.execute_input": "2022-08-20T00:21:34.189782Z",
     "iopub.status.busy": "2022-08-20T00:21:34.189516Z",
     "iopub.status.idle": "2022-08-20T00:21:34.200316Z",
     "shell.execute_reply": "2022-08-20T00:21:34.199095Z"
    },
    "papermill": {
     "duration": 0.017617,
     "end_time": "2022-08-20T00:21:34.203007",
     "exception": false,
     "start_time": "2022-08-20T00:21:34.185390",
     "status": "completed"
    },
    "tags": []
   },
   "outputs": [
    {
     "name": "stdout",
     "output_type": "stream",
     "text": [
      "The distribution of news subjects is:\n",
      "\n",
      "\n",
      "politicsNews       11272\n",
      "worldnews          10145\n",
      "News                9050\n",
      "politics            6841\n",
      "left-news           4459\n",
      "Government News     1570\n",
      "US_News              783\n",
      "Middle-east          778\n",
      "Name: subject, dtype: int64\n"
     ]
    }
   ],
   "source": [
    "## Subject Distributions\n",
    "print(\"The distribution of news subjects is:\")\n",
    "print(\"\\n\")\n",
    "print(df.subject.value_counts())"
   ]
  },
  {
   "cell_type": "code",
   "execution_count": 5,
   "id": "69ba1afe",
   "metadata": {
    "execution": {
     "iopub.execute_input": "2022-08-20T00:21:34.211181Z",
     "iopub.status.busy": "2022-08-20T00:21:34.210923Z",
     "iopub.status.idle": "2022-08-20T00:21:34.513310Z",
     "shell.execute_reply": "2022-08-20T00:21:34.511878Z"
    },
    "papermill": {
     "duration": 0.308783,
     "end_time": "2022-08-20T00:21:34.515494",
     "exception": false,
     "start_time": "2022-08-20T00:21:34.206711",
     "status": "completed"
    },
    "tags": []
   },
   "outputs": [
    {
     "name": "stdout",
     "output_type": "stream",
     "text": [
      "After dropping duplicates: Rows: 44689\n"
     ]
    }
   ],
   "source": [
    "## Number of rows after deduplication\n",
    "df.drop_duplicates(inplace=True)\n",
    "print('After dropping duplicates: Rows: {}'.format(df.shape[0]))"
   ]
  },
  {
   "cell_type": "code",
   "execution_count": 6,
   "id": "256c7819",
   "metadata": {
    "execution": {
     "iopub.execute_input": "2022-08-20T00:21:34.523971Z",
     "iopub.status.busy": "2022-08-20T00:21:34.523667Z",
     "iopub.status.idle": "2022-08-20T00:21:34.530944Z",
     "shell.execute_reply": "2022-08-20T00:21:34.529864Z"
    },
    "papermill": {
     "duration": 0.014187,
     "end_time": "2022-08-20T00:21:34.533503",
     "exception": false,
     "start_time": "2022-08-20T00:21:34.519316",
     "status": "completed"
    },
    "tags": []
   },
   "outputs": [
    {
     "name": "stdout",
     "output_type": "stream",
     "text": [
      "The distribution of fake labels is:\n",
      "\n",
      "\n",
      "1    23478\n",
      "0    21211\n",
      "Name: is_fake, dtype: int64\n"
     ]
    }
   ],
   "source": [
    "## Distribution for fake and not fake articles\n",
    "print(\"The distribution of fake labels is:\")\n",
    "print(\"\\n\")\n",
    "print(df.is_fake.value_counts())"
   ]
  },
  {
   "cell_type": "code",
   "execution_count": 7,
   "id": "30ea7e06",
   "metadata": {
    "execution": {
     "iopub.execute_input": "2022-08-20T00:21:34.542235Z",
     "iopub.status.busy": "2022-08-20T00:21:34.541970Z",
     "iopub.status.idle": "2022-08-20T00:21:34.852777Z",
     "shell.execute_reply": "2022-08-20T00:21:34.851764Z"
    },
    "papermill": {
     "duration": 0.317365,
     "end_time": "2022-08-20T00:21:34.854952",
     "exception": false,
     "start_time": "2022-08-20T00:21:34.537587",
     "status": "completed"
    },
    "tags": []
   },
   "outputs": [
    {
     "data": {
      "text/plain": [
       "<AxesSubplot:xlabel='subject', ylabel='count'>"
      ]
     },
     "execution_count": 7,
     "metadata": {},
     "output_type": "execute_result"
    },
    {
     "data": {
      "image/png": "[encoded data removed]",
      "text/plain": [
       "<Figure size 842.4x595.44 with 1 Axes>"
      ]
     },
     "metadata": {
      "needs_background": "light"
     },
     "output_type": "display_data"
    }
   ],
   "source": [
    "## Distribution of subjects by fake and not fake\n",
    "a4_dims = (11.7, 8.27)\n",
    "fig, ax = plt.subplots(figsize=a4_dims)\n",
    "sns.countplot(ax=ax,x='subject', data=df, hue='is_fake', order = df['subject'].value_counts().index )"
   ]
  },
  {
   "cell_type": "code",
   "execution_count": 8,
   "id": "03c13e4f",
   "metadata": {
    "execution": {
     "iopub.execute_input": "2022-08-20T00:21:34.864516Z",
     "iopub.status.busy": "2022-08-20T00:21:34.863876Z",
     "iopub.status.idle": "2022-08-20T00:22:54.430435Z",
     "shell.execute_reply": "2022-08-20T00:22:54.429392Z"
    },
    "papermill": {
     "duration": 79.577473,
     "end_time": "2022-08-20T00:22:54.436427",
     "exception": false,
     "start_time": "2022-08-20T00:21:34.858954",
     "status": "completed"
    },
    "tags": []
   },
   "outputs": [
    {
     "name": "stdout",
     "output_type": "stream",
     "text": [
      "The total number of words is 11094805\n"
     ]
    }
   ],
   "source": [
    "## Basic Text Cleanup\n",
    "def clean_text(text):\n",
    "    text = html.unescape(text)  # Unescape string\n",
    "    text = re.sub('(ht|f)tp[s]?://\\S+', '', text)  # Remove links\n",
    "    text = re.sub('\\S*@\\S*\\s?', '', text)  # Remove e-mail addresses\n",
    "    text = text.replace(\"'\", '').replace('’', '').replace('‘', '')  # Preserve contractions\n",
    "    text = re.sub('([^\\s\\w]|_)+', ' ', text)  # Remove remaining punctuation\n",
    "    text = text.strip().lower()  # Strip all leading and trailing whitespace and make all lowercase\n",
    "    text = text.replace('œ', ' ')  # This character exists between two words with no space so replacing with space instead of removing completely\n",
    "    text = ' '.join([re.sub(r'[^a-zA-Z0-9]', '', w) for w in text.split(' ')])  # Remove special characters\n",
    "    text = text.replace('\\r\\n', '')  # This is present only in the abuse queue posts\n",
    "    text = re.sub('\\s{2,}', ' ', text)  # Repalce multiple spaces with one space\n",
    "    text = text.strip()  # Strip all leading and trailing whitespace that might have been added\n",
    "    return text\n",
    "\n",
    "## Concatenate title and body and clean text\n",
    "df['title_body'] = df['title'] + ' ' + df['text']\n",
    "df['cleaned_text'] = df['title_body'].apply(lambda x: clean_text(x))\n",
    "\n",
    "## Remove stopwords from text\n",
    "stop = stopwords.words('english')\n",
    "df['cleaned_text'] = df['cleaned_text'].apply(lambda x: ' '.join([word for word in x.split() if word not in (stop)]))\n",
    "print(\"The total number of words is {}\".format(df['cleaned_text'].apply(lambda x: len(x.split())).sum()))"
   ]
  },
  {
   "cell_type": "code",
   "execution_count": 9,
   "id": "166a6f75",
   "metadata": {
    "execution": {
     "iopub.execute_input": "2022-08-20T00:22:54.446498Z",
     "iopub.status.busy": "2022-08-20T00:22:54.445608Z",
     "iopub.status.idle": "2022-08-20T00:23:53.263617Z",
     "shell.execute_reply": "2022-08-20T00:23:53.261687Z"
    },
    "papermill": {
     "duration": 58.825127,
     "end_time": "2022-08-20T00:23:53.265668",
     "exception": false,
     "start_time": "2022-08-20T00:22:54.440541",
     "status": "completed"
    },
    "tags": []
   },
   "outputs": [
    {
     "name": "stderr",
     "output_type": "stream",
     "text": [
      "999995it [00:58, 17006.17it/s]\n"
     ]
    }
   ],
   "source": [
    "## create an embedding vector using fasttext word embeddings \n",
    "embedding_vector = {}\n",
    "f = open('../input/fasttext-embeddings/wiki-news-300d-1M.vec')\n",
    "for line in tqdm(f):\n",
    "    value = line.split(' ')\n",
    "    word = value[0]\n",
    "    coef = np.array(value[1:], dtype = 'float32')\n",
    "    embedding_vector[word] = coef"
   ]
  },
  {
   "cell_type": "code",
   "execution_count": 10,
   "id": "ed22147d",
   "metadata": {
    "execution": {
     "iopub.execute_input": "2022-08-20T00:23:53.331981Z",
     "iopub.status.busy": "2022-08-20T00:23:53.330317Z",
     "iopub.status.idle": "2022-08-20T00:23:53.724162Z",
     "shell.execute_reply": "2022-08-20T00:23:53.723094Z"
    },
    "papermill": {
     "duration": 0.428884,
     "end_time": "2022-08-20T00:23:53.726377",
     "exception": false,
     "start_time": "2022-08-20T00:23:53.297493",
     "status": "completed"
    },
    "tags": []
   },
   "outputs": [
    {
     "name": "stdout",
     "output_type": "stream",
     "text": [
      "The number of words in the training are 7763156\n"
     ]
    }
   ],
   "source": [
    "## Split data into test and train\n",
    "X = df['cleaned_text']\n",
    "y = df['is_fake']\n",
    "X_train, X_test, y_train, y_test = train_test_split(X,y, test_size=0.3, stratify=y, random_state=42)\n",
    "print(\"The number of words in the training are {}\".format(X_train.apply(lambda x: len(x.split())).sum()))"
   ]
  },
  {
   "cell_type": "code",
   "execution_count": 11,
   "id": "52256f09",
   "metadata": {
    "execution": {
     "iopub.execute_input": "2022-08-20T00:23:53.790882Z",
     "iopub.status.busy": "2022-08-20T00:23:53.789426Z",
     "iopub.status.idle": "2022-08-20T00:24:04.129593Z",
     "shell.execute_reply": "2022-08-20T00:24:04.127837Z"
    },
    "papermill": {
     "duration": 10.375014,
     "end_time": "2022-08-20T00:24:04.132382",
     "exception": false,
     "start_time": "2022-08-20T00:23:53.757368",
     "status": "completed"
    },
    "tags": []
   },
   "outputs": [
    {
     "name": "stdout",
     "output_type": "stream",
     "text": [
      "The maximum sequence length is 5081\n"
     ]
    }
   ],
   "source": [
    "## Initiate tokenizer class, fit on X_train, convert to sequences and then pad them\n",
    "## Sequences length padding is defaulted to the length of the longest sequence in the sequenced text\n",
    "token = Tokenizer(num_words=8000000, filters='!\"#$%&()*+,-./:;<=>?@[\\\\]^_`{|}~\\t\\n')\n",
    "token.fit_on_texts(X_train)\n",
    "train_sequences = token.texts_to_sequences(X_train)\n",
    "padded_train_seq = pad_sequences(train_sequences)\n",
    "vocab_size = len(token.word_index)+1\n",
    "print(\"The maximum sequence length is {}\".format(padded_train_seq.shape[1]))"
   ]
  },
  {
   "cell_type": "code",
   "execution_count": 12,
   "id": "d16f867a",
   "metadata": {
    "execution": {
     "iopub.execute_input": "2022-08-20T00:24:04.196374Z",
     "iopub.status.busy": "2022-08-20T00:24:04.196064Z",
     "iopub.status.idle": "2022-08-20T00:24:04.489265Z",
     "shell.execute_reply": "2022-08-20T00:24:04.487559Z"
    },
    "papermill": {
     "duration": 0.327197,
     "end_time": "2022-08-20T00:24:04.491495",
     "exception": false,
     "start_time": "2022-08-20T00:24:04.164298",
     "status": "completed"
    },
    "tags": []
   },
   "outputs": [
    {
     "name": "stderr",
     "output_type": "stream",
     "text": [
      "100%|██████████| 99117/99117 [00:00<00:00, 349579.12it/s]\n"
     ]
    }
   ],
   "source": [
    "## Create an embedding matrix from the vocabulary in X_train and the embedding vector\n",
    "embedding_matrix = np.zeros((vocab_size, 300))\n",
    "for word, i in tqdm(token.word_index.items()):\n",
    "    embedding_value = embedding_vector.get(word)\n",
    "    if embedding_value is not None:\n",
    "        embedding_matrix[i] = embedding_value"
   ]
  },
  {
   "cell_type": "code",
   "execution_count": 13,
   "id": "64781f43",
   "metadata": {
    "execution": {
     "iopub.execute_input": "2022-08-20T00:24:04.556523Z",
     "iopub.status.busy": "2022-08-20T00:24:04.555358Z",
     "iopub.status.idle": "2022-08-20T00:59:33.060659Z",
     "shell.execute_reply": "2022-08-20T00:59:33.059716Z"
    },
    "papermill": {
     "duration": 2128.539196,
     "end_time": "2022-08-20T00:59:33.062885",
     "exception": false,
     "start_time": "2022-08-20T00:24:04.523689",
     "status": "completed"
    },
    "tags": []
   },
   "outputs": [
    {
     "name": "stderr",
     "output_type": "stream",
     "text": [
      "2022-08-20 00:24:04.658896: I tensorflow/stream_executor/cuda/cuda_gpu_executor.cc:937] successful NUMA node read from SysFS had negative value (-1), but there must be at least one NUMA node, so returning NUMA node zero\n",
      "2022-08-20 00:24:04.755999: I tensorflow/stream_executor/cuda/cuda_gpu_executor.cc:937] successful NUMA node read from SysFS had negative value (-1), but there must be at least one NUMA node, so returning NUMA node zero\n",
      "2022-08-20 00:24:04.756799: I tensorflow/stream_executor/cuda/cuda_gpu_executor.cc:937] successful NUMA node read from SysFS had negative value (-1), but there must be at least one NUMA node, so returning NUMA node zero\n",
      "2022-08-20 00:24:04.758454: I tensorflow/core/platform/cpu_feature_guard.cc:142] This TensorFlow binary is optimized with oneAPI Deep Neural Network Library (oneDNN) to use the following CPU instructions in performance-critical operations:  AVX2 AVX512F FMA\n",
      "To enable them in other operations, rebuild TensorFlow with the appropriate compiler flags.\n",
      "2022-08-20 00:24:04.758773: I tensorflow/stream_executor/cuda/cuda_gpu_executor.cc:937] successful NUMA node read from SysFS had negative value (-1), but there must be at least one NUMA node, so returning NUMA node zero\n",
      "2022-08-20 00:24:04.759507: I tensorflow/stream_executor/cuda/cuda_gpu_executor.cc:937] successful NUMA node read from SysFS had negative value (-1), but there must be at least one NUMA node, so returning NUMA node zero\n",
      "2022-08-20 00:24:04.760212: I tensorflow/stream_executor/cuda/cuda_gpu_executor.cc:937] successful NUMA node read from SysFS had negative value (-1), but there must be at least one NUMA node, so returning NUMA node zero\n",
      "2022-08-20 00:24:06.781690: I tensorflow/stream_executor/cuda/cuda_gpu_executor.cc:937] successful NUMA node read from SysFS had negative value (-1), but there must be at least one NUMA node, so returning NUMA node zero\n",
      "2022-08-20 00:24:06.782622: I tensorflow/stream_executor/cuda/cuda_gpu_executor.cc:937] successful NUMA node read from SysFS had negative value (-1), but there must be at least one NUMA node, so returning NUMA node zero\n",
      "2022-08-20 00:24:06.783336: I tensorflow/stream_executor/cuda/cuda_gpu_executor.cc:937] successful NUMA node read from SysFS had negative value (-1), but there must be at least one NUMA node, so returning NUMA node zero\n",
      "2022-08-20 00:24:06.783947: I tensorflow/core/common_runtime/gpu/gpu_device.cc:1510] Created device /job:localhost/replica:0/task:0/device:GPU:0 with 15403 MB memory:  -> device: 0, name: Tesla P100-PCIE-16GB, pci bus id: 0000:00:04.0, compute capability: 6.0\n"
     ]
    },
    {
     "name": "stdout",
     "output_type": "stream",
     "text": [
      "Model: \"model\"\n",
      "_________________________________________________________________\n",
      "Layer (type)                 Output Shape              Param #   \n",
      "=================================================================\n",
      "input_1 (InputLayer)         [(None, 5081)]            0         \n",
      "_________________________________________________________________\n",
      "embedding (Embedding)        (None, 5081, 300)         29735400  \n",
      "_________________________________________________________________\n",
      "conv1d (Conv1D)              (None, 5079, 32)          28832     \n",
      "_________________________________________________________________\n",
      "dropout (Dropout)            (None, 5079, 32)          0         \n",
      "_________________________________________________________________\n",
      "max_pooling1d (MaxPooling1D) (None, 2539, 32)          0         \n",
      "_________________________________________________________________\n",
      "bidirectional (Bidirectional (None, 32)                6272      \n",
      "_________________________________________________________________\n",
      "flatten (Flatten)            (None, 32)                0         \n",
      "_________________________________________________________________\n",
      "dense (Dense)                (None, 10)                330       \n",
      "_________________________________________________________________\n",
      "dense_1 (Dense)              (None, 2)                 22        \n",
      "=================================================================\n",
      "Total params: 29,770,856\n",
      "Trainable params: 35,456\n",
      "Non-trainable params: 29,735,400\n",
      "_________________________________________________________________\n",
      "None\n",
      "\n",
      "\n"
     ]
    },
    {
     "name": "stderr",
     "output_type": "stream",
     "text": [
      "2022-08-20 00:24:07.855603: W tensorflow/core/framework/cpu_allocator_impl.cc:80] Allocation of 445034628 exceeds 10% of free system memory.\n",
      "2022-08-20 00:24:08.258595: I tensorflow/compiler/mlir/mlir_graph_optimization_pass.cc:185] None of the MLIR Optimization Passes are enabled (registered 2)\n"
     ]
    },
    {
     "name": "stdout",
     "output_type": "stream",
     "text": [
      "Epoch 1/10\n"
     ]
    },
    {
     "name": "stderr",
     "output_type": "stream",
     "text": [
      "2022-08-20 00:24:11.757229: I tensorflow/stream_executor/cuda/cuda_dnn.cc:369] Loaded cuDNN version 8005\n"
     ]
    },
    {
     "name": "stdout",
     "output_type": "stream",
     "text": [
      "1369/1369 [==============================] - 220s 154ms/step - loss: 0.1934 - accuracy: 0.9252 - val_loss: 0.2272 - val_accuracy: 0.9109\n",
      "Epoch 2/10\n",
      "1369/1369 [==============================] - 209s 153ms/step - loss: 0.1520 - accuracy: 0.9447 - val_loss: 0.1009 - val_accuracy: 0.9579\n",
      "Epoch 3/10\n",
      "1369/1369 [==============================] - 210s 154ms/step - loss: 0.0753 - accuracy: 0.9727 - val_loss: 0.0128 - val_accuracy: 0.9970\n",
      "Epoch 4/10\n",
      "1369/1369 [==============================] - 211s 154ms/step - loss: 0.0714 - accuracy: 0.9753 - val_loss: 0.0483 - val_accuracy: 0.9841\n",
      "Epoch 5/10\n",
      "1369/1369 [==============================] - 211s 154ms/step - loss: 0.0517 - accuracy: 0.9840 - val_loss: 0.0288 - val_accuracy: 0.9950\n",
      "Epoch 6/10\n",
      "1369/1369 [==============================] - 211s 154ms/step - loss: 0.0287 - accuracy: 0.9913 - val_loss: 0.0088 - val_accuracy: 0.9979\n",
      "Epoch 7/10\n",
      "1369/1369 [==============================] - 211s 154ms/step - loss: 0.0329 - accuracy: 0.9893 - val_loss: 0.0077 - val_accuracy: 0.9984\n",
      "Epoch 8/10\n",
      "1369/1369 [==============================] - 211s 154ms/step - loss: 0.0378 - accuracy: 0.9880 - val_loss: 0.0112 - val_accuracy: 0.9980\n",
      "Epoch 9/10\n",
      "1369/1369 [==============================] - 211s 154ms/step - loss: 0.0128 - accuracy: 0.9968 - val_loss: 0.0072 - val_accuracy: 0.9984\n",
      "Epoch 10/10\n",
      "1369/1369 [==============================] - 210s 154ms/step - loss: 0.0131 - accuracy: 0.9961 - val_loss: 0.0065 - val_accuracy: 0.9983\n"
     ]
    },
    {
     "data": {
      "image/png": "[encoded data removed]",
      "text/plain": [
       "<Figure size 432x288 with 1 Axes>"
      ]
     },
     "metadata": {
      "needs_background": "light"
     },
     "output_type": "display_data"
    }
   ],
   "source": [
    "## Create functional keras model with early stopping based on minimum validation loss\n",
    "inputs1 = Input(shape=(5081,))\n",
    "embedding1 = Embedding(vocab_size, 300, weights=[embedding_matrix], trainable=False)(inputs1)\n",
    "conv1 = Conv1D(filters=32, kernel_size=3, activation='relu', padding='valid')(embedding1)\n",
    "drop1 = Dropout(0.5)(conv1)\n",
    "pool1 = MaxPooling1D(pool_size=2)(drop1)\n",
    "lstm1 = Bidirectional(LSTM(16))(pool1)\n",
    "flat1 = Flatten()(lstm1)\n",
    "dense1 = Dense(10, activation='relu')(flat1)\n",
    "outputs = Dense(2, activation='softmax')(dense1)\n",
    "model = Model(inputs=inputs1, outputs=outputs)\n",
    "model.compile(loss='sparse_categorical_crossentropy', optimizer ='adam', metrics=['accuracy'])\n",
    "print(model.summary())\n",
    "print(\"\\n\")\n",
    "\n",
    "es = EarlyStopping(monitor='val_loss', mode='min', restore_best_weights=True,patience=20, verbose=1)\n",
    "checkpoint = ModelCheckpoint(filepath=\"/kaggle/working/best_model.epoch{epoch:02d}-loss{val_loss:.2f}.hdf5\",\n",
    "                            monitor='val_loss',save_best_only=True, mode='min')\n",
    "callbacks = [es,checkpoint]\n",
    "\n",
    "history = model.fit(padded_train_seq, np.array(y_train), validation_split=0.3, epochs=10, batch_size=16, callbacks=callbacks)\n",
    "plt.plot(history.history['loss'],label='train')\n",
    "plt.plot(history.history['val_loss'],label='test')\n",
    "plt.legend()\n",
    "plt.show()"
   ]
  }
 ],
 "metadata": {
  "kernelspec": {
   "display_name": "Python 3",
   "language": "python",
   "name": "python3"
  },
  "language_info": {
   "codemirror_mode": {
    "name": "ipython",
    "version": 3
   },
   "file_extension": ".py",
   "mimetype": "text/x-python",
   "name": "python",
   "nbconvert_exporter": "python",
   "pygments_lexer": "ipython3",
   "version": "3.7.12"
  },
  "papermill": {
   "default_parameters": {},
   "duration": 2299.611539,
   "end_time": "2022-08-20T00:59:36.905430",
   "environment_variables": {},
   "exception": null,
   "input_path": "__notebook__.ipynb",
   "output_path": "__notebook__.ipynb",
   "parameters": {},
   "start_time": "2022-08-20T00:21:17.293891",
   "version": "2.3.4"
  }
 },
 "nbformat": 4,
 "nbformat_minor": 5
}
